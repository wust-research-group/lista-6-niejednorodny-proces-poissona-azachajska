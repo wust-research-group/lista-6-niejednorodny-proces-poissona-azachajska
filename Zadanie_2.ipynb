{
 "cells": [
  {
   "cell_type": "markdown",
   "metadata": {},
   "source": [
    "# ZADANIE 2 "
   ]
  },
  {
   "cell_type": "code",
   "execution_count": 4,
   "metadata": {},
   "outputs": [],
   "source": [
    "import numpy as np\n",
    "import random"
   ]
  },
  {
   "cell_type": "markdown",
   "metadata": {},
   "source": [
    "Metoda odwrotnej dystrybuanty \n",
    "1. t=0, I=0 \n",
    "2. generuj U z U(0,1)\n",
    "3. Wstaw t = (t+U)/(1-U). Jeśli t>T stop\n",
    "4. Wstaw I = I+1, S(I)=t\n",
    "5. wróć do 2"
   ]
  },
  {
   "cell_type": "code",
   "execution_count": 7,
   "metadata": {},
   "outputs": [],
   "source": [
    "def niej_poisson_odwrotna_dystrybuanta(T):\n",
    "    t = 0\n",
    "    I = 0\n",
    "    S = []\n",
    "    while True:\n",
    "        U = random.random()\n",
    "        t = (t + U) / (1 - U)\n",
    "        if t > T:\n",
    "            break\n",
    "        I += 1\n",
    "        S.append(t)\n",
    "    return S\n"
   ]
  },
  {
   "cell_type": "markdown",
   "metadata": {},
   "source": [
    "Dla przypadków, w których możemy łatwo wyznaczać m(t) = całka od 0 do t λ(s)ds można użyć alternatywnego algorytmu.\n",
    "- Dla ustalonego T wygenerować zmienną $N_{T} ∼ Poiss(m(T))$.\n",
    "- Za czasy oczekiwania wziąć NT posortowanych zmiennych o dystrybuancie $F(t) = \\dfrac{m(t)}{m(T)}$ .\n",
    "Sprawdź również jego działanie."
   ]
  },
  {
   "cell_type": "code",
   "execution_count": 8,
   "metadata": {},
   "outputs": [],
   "source": [
    "def lambda_func(s):\n",
    "    return 0.5 * s \n",
    "\n",
    "def m(t, f=lambda_func):\n",
    "    return np.trapz([lambda_func(s) for s in np.linspace(0, t, 100)], dx=t/100)\n",
    "\n",
    "def metoda_odw_dyst_alternatywna(T, m):\n",
    "    m_T = m(T)\n",
    "    N_T = np.random.poisson(m_T)\n",
    "    u = np.sort(np.random.rand(N_T))\n",
    "    times = np.array([np.interp(u[i], np.linspace(0, 1, 100), np.linspace(0, T, 100)) for i in range(N_T)])\n",
    "    return times, len(times)\n"
   ]
  },
  {
   "cell_type": "code",
   "execution_count": 15,
   "metadata": {},
   "outputs": [
    {
     "name": "stdout",
     "output_type": "stream",
     "text": [
      "Nt: 31\n",
      "Teoretyczna wartość Nt: 24.975\n"
     ]
    }
   ],
   "source": [
    "T = 10\n",
    "czasy, Nt = metoda_odw_dyst_alternatywna(T, m)\n",
    "def theoretical_expected_value(lambda_function, T):\n",
    "    return np.trapz([lambda_function(t) for t in np.linspace(0, T, 1000)], dx=T/1000)\n",
    "expected_Nt = theoretical_expected_value(lambda_func, T)\n",
    "\n",
    "print(\"Nt:\", Nt)\n",
    "print(\"Teoretyczna wartość Nt:\", expected_Nt)"
   ]
  },
  {
   "cell_type": "code",
   "execution_count": null,
   "metadata": {},
   "outputs": [],
   "source": []
  }
 ],
 "metadata": {
  "kernelspec": {
   "display_name": "Python 3",
   "language": "python",
   "name": "python3"
  },
  "language_info": {
   "codemirror_mode": {
    "name": "ipython",
    "version": 3
   },
   "file_extension": ".py",
   "mimetype": "text/x-python",
   "name": "python",
   "nbconvert_exporter": "python",
   "pygments_lexer": "ipython3",
   "version": "3.11.2"
  }
 },
 "nbformat": 4,
 "nbformat_minor": 2
}
