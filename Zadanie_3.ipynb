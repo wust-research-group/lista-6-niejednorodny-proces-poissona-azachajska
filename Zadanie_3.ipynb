{
 "cells": [
  {
   "cell_type": "markdown",
   "metadata": {},
   "source": [
    "# ZADANIE 3"
   ]
  },
  {
   "cell_type": "markdown",
   "metadata": {},
   "source": [
    "Łączenie procesów Poissona\n",
    "\n",
    "Mając 2 niezależne niejednorodne procesy Poissona stwórz proces składający się z połączenia wszystkich zdarzeń obu. Sprawdź, że jego intensywność jest sumą 2 oryginalnych intensywności."
   ]
  },
  {
   "cell_type": "code",
   "execution_count": 18,
   "metadata": {},
   "outputs": [],
   "source": [
    "import numpy as np\n",
    "import matplotlib.pyplot as plt\n",
    "import random"
   ]
  },
  {
   "cell_type": "code",
   "execution_count": 19,
   "metadata": {},
   "outputs": [],
   "source": [
    "def lambda_func_1(t):\n",
    "    return t**2\n",
    "\n",
    "def lambda_func_2(t):\n",
    "    return t"
   ]
  },
  {
   "cell_type": "markdown",
   "metadata": {},
   "source": [
    "Metoda generowania przerzedzania"
   ]
  },
  {
   "cell_type": "code",
   "execution_count": 20,
   "metadata": {},
   "outputs": [],
   "source": [
    "def thinnig_method(lambda_function, T):\n",
    "    times = []\n",
    "    t = 0\n",
    "    I = 0\n",
    "    \n",
    "    while True:\n",
    "        U1 = np.random.rand()\n",
    "        if lambda_function(t) == 0:\n",
    "            t += 1\n",
    "            continue\n",
    "        t += -1 / lambda_function(t) * np.log(U1)\n",
    "        \n",
    "        if t > T:\n",
    "            break\n",
    "        \n",
    "        U2 = np.random.rand()\n",
    "        if U2 <= 1:\n",
    "            I += 1\n",
    "            times.append(t)\n",
    "    \n",
    "    return times, I"
   ]
  },
  {
   "cell_type": "code",
   "execution_count": 21,
   "metadata": {},
   "outputs": [],
   "source": [
    "czasy_1, Nt_1 = thinnig_method(lambda_func_1, 10)\n",
    "czasy_2, Nt_2 = thinnig_method(lambda_func_2, 10)\n",
    "\n",
    "polaczone = np.sort(np.concatenate((czasy_1, czasy_2)))"
   ]
  },
  {
   "cell_type": "code",
   "execution_count": 25,
   "metadata": {},
   "outputs": [
    {
     "data": {
      "image/png": "[encoded data removed]",
      "text/plain": [
       "<Figure size 640x480 with 1 Axes>"
      ]
     },
     "metadata": {},
     "output_type": "display_data"
    }
   ],
   "source": [
    "y_values = np.arange(len(polaczone))\n",
    "\n",
    "plt.step(polaczone, y_values, where='post')\n",
    "plt.xlabel('Czas')\n",
    "plt.ylabel('Liczba zdarzeń')\n",
    "plt.show()"
   ]
  },
  {
   "cell_type": "code",
   "execution_count": 28,
   "metadata": {},
   "outputs": [],
   "source": [
    "def theoretical_expected_value(lambda_function, T):\n",
    "    return np.trapz([lambda_function(t) for t in np.linspace(0, T, 1000)], dx=T/1000)\n",
    "\n",
    "intensywnosc_1 = theoretical_expected_value(lambda_func_1, 10)\n",
    "intensywnosc_2 = theoretical_expected_value(lambda_func_2, 10)\n",
    "suma_intensywnosci = theoretical_expected_value(lambda t: lambda_func_1(t) + lambda_func_2(t), 10)\n"
   ]
  },
  {
   "cell_type": "code",
   "execution_count": 29,
   "metadata": {},
   "outputs": [
    {
     "name": "stdout",
     "output_type": "stream",
     "text": [
      "333.0001668335002\n",
      "49.95\n",
      "382.95016683350013\n"
     ]
    }
   ],
   "source": [
    "print(intensywnosc_1)\n",
    "print(intensywnosc_2)\n",
    "print(suma_intensywnosci)"
   ]
  },
  {
   "cell_type": "code",
   "execution_count": null,
   "metadata": {},
   "outputs": [],
   "source": []
  }
 ],
 "metadata": {
  "kernelspec": {
   "display_name": "Python 3",
   "language": "python",
   "name": "python3"
  },
  "language_info": {
   "codemirror_mode": {
    "name": "ipython",
    "version": 3
   },
   "file_extension": ".py",
   "mimetype": "text/x-python",
   "name": "python",
   "nbconvert_exporter": "python",
   "pygments_lexer": "ipython3",
   "version": "3.11.2"
  }
 },
 "nbformat": 4,
 "nbformat_minor": 2
}
