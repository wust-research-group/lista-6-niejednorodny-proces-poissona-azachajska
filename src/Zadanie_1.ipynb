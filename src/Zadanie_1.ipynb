{
 "cells": [
  {
   "cell_type": "markdown",
   "metadata": {},
   "source": [
    "# ZADANIE 1"
   ]
  },
  {
   "cell_type": "markdown",
   "metadata": {},
   "source": [
    "Metoda przerzedzania\n",
    "Napisz algorytm, który dla ustalonej niejednorodnej funkcji intensywności λ(t) generuje czasy oczekiwania niejednorodnego procesu Poissona metodą przerzedzania.\n",
    "Sprawdź poprawność jego działania weryfikując, że $Nt ∼ Poiss( \int_{0}^{t}\lambda(s)ds)$ \n",
    "1. Podstaw t = 0, I = 0.\n",
    "2. Wygeneruj U1 ∼ U (0; 1).\n",
    "3. Podstaw t = t − 1/λlog U1. Jeśli t > T , to koniec.\n",
    "4. Generuj U2 ∼ U (0; 1) (niezależne od U1).\n",
    "5. Jeśli U2 ≤ λ(t)/M , to I = I + 1, SI = t.\n",
    "6. Wróć do punktu 2"
   ]
  },
  {
   "cell_type": "code",
   "execution_count": 27,
   "metadata": {},
   "outputs": [],
   "source": [
    "import numpy as np\n",
    "import matplotlib.pyplot as plt"
   ]
  },
  {
   "cell_type": "code",
   "execution_count": 24,
   "metadata": {},
   "outputs": [],
   "source": [
    "def thinnig_method(lambda_function, T):\n",
    "    times = []\n",
    "    t = 0\n",
    "    I = 0\n",
    "    \n",
    "    while True:\n",
    "        U1 = np.random.rand()\n",
    "        if lambda_function(t) == 0:\n",
    "            t += 1\n",
    "            continue\n",
    "        t += -1 / lambda_function(t) * np.log(U1)\n",
    "        \n",
    "        if t > T:\n",
    "            break\n",
    "        \n",
    "        U2 = np.random.rand()\n",
    "        if U2 <= 1:\n",
    "            I += 1\n",
    "            times.append(t)\n",
    "    \n",
    "    return times, I\n"
   ]
  },
  {
   "cell_type": "code",
   "execution_count": 31,
   "metadata": {},
   "outputs": [
    {
     "name": "stdout",
     "output_type": "stream",
     "text": [
      "Nt: 28\n",
      "Teoretyczna wartość Nt: 24.975\n"
     ]
    }
   ],
   "source": [
    "def lambda_function(t):\n",
    "    return 0.5 * t\n",
    "\n",
    "\n",
    "def theoretical_expected_value(lambda_function, T):\n",
    "    return np.trapz([lambda_function(t) for t in np.linspace(0, T, 1000)], dx=T/1000)\n",
    "\n",
    "T = 10\n",
    "czasy, Nt = thinnig_method(lambda_function, T)\n",
    "expected_Nt = theoretical_expected_value(lambda_function, T)\n",
    "\n",
    "print(\"Nt:\", Nt)\n",
    "print(\"Teoretyczna wartość Nt:\", expected_Nt)"
   ]
  },
  {
   "cell_type": "code",
   "execution_count": 30,
   "metadata": {},
   "outputs": [
    {
     "name": "stdout",
     "output_type": "stream",
     "text": [
      "[4.21298146978665, 5.022820763372184, 5.4494804840984035, 5.9251563844249935, 5.940046121633055, 6.219260518019448, 6.285574361396796, 6.584364349760162, 6.647823719710964, 7.336092861642808, 7.860245989733406, 7.967552608348615, 8.161426087404392, 8.460737700132043, 8.78670057480899, 8.811394101398886, 8.94079624176539, 8.99444435757484, 9.101424380334851, 9.308496309954062, 9.684610118799421, 9.963461351906796]\n",
      "22\n"
     ]
    }
   ],
   "source": [
    "print(czasy) #czasy oczekiwania\n",
    "print(len(czasy)) #liczba zdarzeń\n"
   ]
  },
  {
   "cell_type": "code",
   "execution_count": null,
   "metadata": {},
   "outputs": [],
   "source": []
  }
 ],
 "metadata": {
  "kernelspec": {
   "display_name": "Python 3",
   "language": "python",
   "name": "python3"
  },
  "language_info": {
   "codemirror_mode": {
    "name": "ipython",
    "version": 3
   },
   "file_extension": ".py",
   "mimetype": "text/x-python",
   "name": "python",
   "nbconvert_exporter": "python",
   "pygments_lexer": "ipython3",
   "version": "3.11.2"
  }
 },
 "nbformat": 4,
 "nbformat_minor": 2
}
